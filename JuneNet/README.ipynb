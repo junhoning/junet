{
 "cells": [
  {
   "cell_type": "markdown",
   "metadata": {},
   "source": [
    "# JuNet  \n",
    "\n",
    "TensorFlow-based open source convolutional neural networks platform for medical image analysis"
   ]
  },
  {
   "cell_type": "markdown",
   "metadata": {},
   "source": [
    "모임이나 강의들을 통해서 파이썬과 딥러닝에 대해서는 좀 배우기는 했지만,  \n",
    "자신이 가지고 있는 의료 데이터를 가지고 무언가를 간단히라도 돌려보고 싶은 의료 쪽 연구원님들에게 바칩니다.  \n",
    "  \n",
    "국내 의료 인공지능의 발전을 위해 공개하니 부족한 거나 궁금하신 것이 있으시면 얼마든지 연락 바랍니다.  \n"
   ]
  },
  {
   "cell_type": "markdown",
   "metadata": {},
   "source": [
    "## Installation"
   ]
  },
  {
   "cell_type": "markdown",
   "metadata": {},
   "source": [
    "pip install git+https://gitlab.com/trackindatalabs/JuneNet.git"
   ]
  },
  {
   "cell_type": "markdown",
   "metadata": {},
   "source": [
    "## 기본 구성"
   ]
  },
  {
   "cell_type": "code",
   "execution_count": null,
   "metadata": {
    "collapsed": true
   },
   "outputs": [],
   "source": [
    "import JuneNet\n",
    "\n",
    "example_project = JuneNet.nn(project_title='example_project', work_dir='c://workspace/', data_ext='tfrecords',\n",
    "                             num_gpus=None, tboard_record=True)\n",
    "\n",
    "example_project.set_optimizer(subject_title='first_test',  # Title of the training subject. \n",
    "                              learning_rate=0.0001, decay_step=3, lr_decay_factor=1., num_epochs=100, batch_size=64, \n",
    "                              input_shape=None,  # Desired Shape of input image. None is default to input full image as it is.\n",
    "                              inbound_shape=None,  # Limit the inbound size of the input image to set cropping image. \n",
    "                              grid_n=1,  # The number of cropping image in each data. \n",
    "                              valid_rate=0.1,  # Ratio of total data for Validation set \n",
    "                              model_name='vgg',  # Name of Networks that implemented. You can input Class typed customized network.\n",
    "                              loss_name='ce',  # Name of Loss Function. \n",
    "                              optimizer='adam'  # Name of Optimization\n",
    "                              )\n",
    "\n",
    "example_project.train(report_per_epoch=100,  # Number of logs during one epoch. \n",
    "                      display_per_epoch=2, # Number of the result of Validaiotion Image during training\n",
    "                      valid_per_epoch=50, # \n",
    "                      verbosity=2  # 1 = log status on tensorboard only, 2 = log status on  tensorboard and status\n",
    "                      )"
   ]
  },
  {
   "cell_type": "markdown",
   "metadata": {},
   "source": [
    "## Using Guide of JuNet"
   ]
  },
  {
   "cell_type": "markdown",
   "metadata": {},
   "source": [
    "### raw 데이터로부터 tfrecords 생성 및 학습 준비하기. "
   ]
  },
  {
   "cell_type": "code",
   "execution_count": null,
   "metadata": {
    "collapsed": true
   },
   "outputs": [],
   "source": [
    "org_data_dir = 'c://workspace/data/medical_image/'\n",
    "image_list = glob(org_data_dir + '/*/*_ct.dcm')\n",
    "label_list = glob(org_data_dir + '/*/*_label.dcm')\n",
    "id_list = [data_path.split('medical_image\\\\')[-1].split('.')[0] for data_path in image_list]\n",
    "\n",
    "JuneNet.data_manager.generate_dataset(project_title='dcm_example', id_list=id_list,\n",
    "                                      image_list=image_list, label_list=label_list, name_classes=['benign', 'malignant'])"
   ]
  },
  {
   "cell_type": "markdown",
   "metadata": {},
   "source": [
    "### 다양한 Hyper Parameter들을 한번에 돌려 비교 테스트하기. "
   ]
  },
  {
   "cell_type": "code",
   "execution_count": null,
   "metadata": {
    "collapsed": true
   },
   "outputs": [],
   "source": [
    "example_project = JuneNet.nn(\"example_project\")\n",
    "\n",
    "for learning_rate in [0.001, 0.0001]:\n",
    "    example_project.set_optimizer(subject_title='compare_lr',\n",
    "                                  learning_rate=learning_rate)\n",
    "    example_project.train('lr.%f' % learning_rate)"
   ]
  },
  {
   "cell_type": "code",
   "execution_count": null,
   "metadata": {
    "collapsed": true
   },
   "outputs": [],
   "source": []
  }
 ],
 "metadata": {
  "kernelspec": {
   "display_name": "Python 3",
   "language": "python",
   "name": "python3"
  },
  "language_info": {
   "codemirror_mode": {
    "name": "ipython",
    "version": 3
   },
   "file_extension": ".py",
   "mimetype": "text/x-python",
   "name": "python",
   "nbconvert_exporter": "python",
   "pygments_lexer": "ipython3",
   "version": "3.6.3"
  }
 },
 "nbformat": 4,
 "nbformat_minor": 2
}
